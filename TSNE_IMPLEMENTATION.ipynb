{
  "nbformat": 4,
  "nbformat_minor": 0,
  "metadata": {
    "colab": {
      "name": "TSNE IMPLEMENTATION.ipynb",
      "provenance": [],
      "private_outputs": true,
      "authorship_tag": "ABX9TyMRpH907Nm/UT5EmXmKJ/Ek",
      "include_colab_link": true
    },
    "kernelspec": {
      "name": "python3",
      "display_name": "Python 3"
    },
    "accelerator": "GPU"
  },
  "cells": [
    {
      "cell_type": "markdown",
      "metadata": {
        "id": "view-in-github",
        "colab_type": "text"
      },
      "source": [
        "<a href=\"https://colab.research.google.com/github/pavansai26/TSNE-IMPLEMENTATION/blob/master/TSNE_IMPLEMENTATION.ipynb\" target=\"_parent\"><img src=\"https://colab.research.google.com/assets/colab-badge.svg\" alt=\"Open In Colab\"/></a>"
      ]
    },
    {
      "cell_type": "code",
      "metadata": {
        "id": "NyVpAEiVg4Lr",
        "colab_type": "code",
        "colab": {}
      },
      "source": [
        "import numpy as np\n",
        "import sklearn.datasets\n",
        "import sklearn.neighbors\n",
        "import umap\n",
        "#import umap.plot\n",
        "import matplotlib.pyplot as plt\n"
      ],
      "execution_count": 0,
      "outputs": []
    },
    {
      "cell_type": "code",
      "metadata": {
        "id": "C_6-yEszhLAB",
        "colab_type": "code",
        "colab": {}
      },
      "source": [
        "from sklearn.datasets import fetch_openml\n",
        "mnist = fetch_openml('mnist_784')"
      ],
      "execution_count": 0,
      "outputs": []
    },
    {
      "cell_type": "code",
      "metadata": {
        "id": "q_lAxw2UiqWz",
        "colab_type": "code",
        "colab": {}
      },
      "source": [
        "from sklearn.manifold import TSNE"
      ],
      "execution_count": 0,
      "outputs": []
    },
    {
      "cell_type": "code",
      "metadata": {
        "id": "SCg1mvynjjf3",
        "colab_type": "code",
        "colab": {}
      },
      "source": [
        "model=TSNE()"
      ],
      "execution_count": 0,
      "outputs": []
    },
    {
      "cell_type": "code",
      "metadata": {
        "id": "_cd-4OCnnohv",
        "colab_type": "code",
        "colab": {}
      },
      "source": [
        "tsne_data=model.fit_transform(mnist.data)"
      ],
      "execution_count": 0,
      "outputs": []
    },
    {
      "cell_type": "code",
      "metadata": {
        "id": "UZdhL4Gbkas1",
        "colab_type": "code",
        "colab": {}
      },
      "source": [
        "tsne_data=np.vstack(tsne_data.T,mnist.target).T"
      ],
      "execution_count": 0,
      "outputs": []
    },
    {
      "cell_type": "code",
      "metadata": {
        "id": "6qcti9R3k_sO",
        "colab_type": "code",
        "colab": {}
      },
      "source": [
        "tsne_df=pd.DataFrame(data=tsne_data,columns=('dim_1','dim_2','label'))"
      ],
      "execution_count": 0,
      "outputs": []
    },
    {
      "cell_type": "code",
      "metadata": {
        "id": "FUuSRZRhmPH1",
        "colab_type": "code",
        "colab": {}
      },
      "source": [
        "import seaborn as sns"
      ],
      "execution_count": 0,
      "outputs": []
    },
    {
      "cell_type": "code",
      "metadata": {
        "id": "C349elAimPRg",
        "colab_type": "code",
        "colab": {}
      },
      "source": [
        "sns.FacetGrid(tsne_df,hue='label',size=6).map(plt.scatter,'dim_1','dim_2')\n",
        "plt.show()"
      ],
      "execution_count": 0,
      "outputs": []
    },
    {
      "cell_type": "code",
      "metadata": {
        "id": "2_CDxaxDmPj8",
        "colab_type": "code",
        "colab": {}
      },
      "source": [
        ""
      ],
      "execution_count": 0,
      "outputs": []
    },
    {
      "cell_type": "code",
      "metadata": {
        "id": "H_U0l_e-mPcV",
        "colab_type": "code",
        "colab": {}
      },
      "source": [
        "model=TSNE(perplexity=50)\n",
        "tsne_data=model.fit_transform(data)\n",
        "tsne_data=np.vstack(tsne_data.T,labels).T\n",
        "tsne_df=pd.DataFrame(data=tsne_data,columns=('dim_1','dim_2','label'))\n",
        "sns.FacetGrid(tsne_df,hue='label',size=6).map(plt.scatter,'dim_1','dim_2')\n",
        "plt.show()\n",
        "\n"
      ],
      "execution_count": 0,
      "outputs": []
    },
    {
      "cell_type": "code",
      "metadata": {
        "id": "wB3HVWRSobq6",
        "colab_type": "code",
        "colab": {}
      },
      "source": [
        "model=TSNE(perplexity=50,n_iter=5000)\n",
        "tsne_data=model.fit_transform(data)\n",
        "tsne_data=np.vstack(tsne_data.T,labels).T\n",
        "tsne_df=pd.DataFrame(data=tsne_data,columns=('dim_1','dim_2','label'))\n",
        "sns.FacetGrid(tsne_df,hue='label',size=6).map(plt.scatter,'dim_1','dim_2')\n",
        "plt.show()\n",
        "\n"
      ],
      "execution_count": 0,
      "outputs": []
    },
    {
      "cell_type": "code",
      "metadata": {
        "id": "8Gb0fmMNBGPl",
        "colab_type": "code",
        "colab": {}
      },
      "source": [
        ""
      ],
      "execution_count": 0,
      "outputs": []
    }
  ]
}